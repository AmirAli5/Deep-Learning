{
 "cells": [
  {
   "cell_type": "markdown",
   "id": "92c4fb35",
   "metadata": {},
   "source": [
    "![RNN with LSTM](https://pbs.twimg.com/media/FQnfMHxXIAAgdjZ?format=jpg&name=medium)"
   ]
  },
  {
   "cell_type": "markdown",
   "id": "23c005a1",
   "metadata": {},
   "source": [
    "RNN works on the principle of saving the output of a particular layer and feeding this back to the input in order to predict the output of the layer.\n",
    "\n",
    "[Click to See my Article on RNN with LSTM](https://medium.com/machine-learning-researcher/recurrent-neural-network-rnn-e6f69db16eba)"
   ]
  },
  {
   "cell_type": "markdown",
   "id": "c77e98ac",
   "metadata": {},
   "source": [
    "![Machine Learning Project](https://user-images.githubusercontent.com/7065401/52071927-c1cd7100-2562-11e9-908a-dde91ba14e59.png)"
   ]
  },
  {
   "cell_type": "markdown",
   "id": "2506122c",
   "metadata": {},
   "source": [
    "## <font color = #950CDF> Part 1: </font> <font color = #4854E8> Information of Dataset </font>\n",
    "<b>Google Stock Price DataSet:</b> The data contain the information of Google Stock price from 2012 to 2016 which have 1258 number of observation and 6 numbers of Attributes. The attributes are `Date`, `Open`, `High`, `Low`, `Close` and `Volume`. "
   ]
  },
  {
   "cell_type": "markdown",
   "id": "ea89955d",
   "metadata": {},
   "source": [
    "![ML](https://user-images.githubusercontent.com/7065401/52071924-c003ad80-2562-11e9-8297-1c6595f8a7ff.png)"
   ]
  },
  {
   "cell_type": "markdown",
   "id": "80d6ca8e",
   "metadata": {},
   "source": [
    "### <font color = #27C3E5> 1.1: </font> <font color = #41EA46> Import Libraries and Dataset </font>"
   ]
  },
  {
   "cell_type": "markdown",
   "id": "10bce440",
   "metadata": {},
   "source": [
    "#### <font color = blue>Import the Libraries"
   ]
  },
  {
   "cell_type": "code",
   "execution_count": 32,
   "id": "d24073d5",
   "metadata": {},
   "outputs": [],
   "source": [
    "import numpy as np\n",
    "import pandas as pd\n",
    "import seaborn as sns\n",
    "import matplotlib.pyplot as plt\n",
    "from sklearn.preprocessing import MinMaxScaler"
   ]
  },
  {
   "cell_type": "markdown",
   "id": "2b016d72",
   "metadata": {},
   "source": [
    "#### <font color = blue>Import the Dataset"
   ]
  },
  {
   "cell_type": "code",
   "execution_count": 52,
   "id": "062d6a82",
   "metadata": {},
   "outputs": [
    {
     "data": {
      "text/html": [
       "<div>\n",
       "<style scoped>\n",
       "    .dataframe tbody tr th:only-of-type {\n",
       "        vertical-align: middle;\n",
       "    }\n",
       "\n",
       "    .dataframe tbody tr th {\n",
       "        vertical-align: top;\n",
       "    }\n",
       "\n",
       "    .dataframe thead th {\n",
       "        text-align: right;\n",
       "    }\n",
       "</style>\n",
       "<table border=\"1\" class=\"dataframe\">\n",
       "  <thead>\n",
       "    <tr style=\"text-align: right;\">\n",
       "      <th></th>\n",
       "      <th>Date</th>\n",
       "      <th>Open</th>\n",
       "      <th>High</th>\n",
       "      <th>Low</th>\n",
       "      <th>Close</th>\n",
       "      <th>Volume</th>\n",
       "    </tr>\n",
       "  </thead>\n",
       "  <tbody>\n",
       "    <tr>\n",
       "      <th>0</th>\n",
       "      <td>1/3/2012</td>\n",
       "      <td>325.25</td>\n",
       "      <td>332.83</td>\n",
       "      <td>324.97</td>\n",
       "      <td>663.59</td>\n",
       "      <td>7,380,500</td>\n",
       "    </tr>\n",
       "    <tr>\n",
       "      <th>1</th>\n",
       "      <td>1/4/2012</td>\n",
       "      <td>331.27</td>\n",
       "      <td>333.87</td>\n",
       "      <td>329.08</td>\n",
       "      <td>666.45</td>\n",
       "      <td>5,749,400</td>\n",
       "    </tr>\n",
       "    <tr>\n",
       "      <th>2</th>\n",
       "      <td>1/5/2012</td>\n",
       "      <td>329.83</td>\n",
       "      <td>330.75</td>\n",
       "      <td>326.89</td>\n",
       "      <td>657.21</td>\n",
       "      <td>6,590,300</td>\n",
       "    </tr>\n",
       "    <tr>\n",
       "      <th>3</th>\n",
       "      <td>1/6/2012</td>\n",
       "      <td>328.34</td>\n",
       "      <td>328.77</td>\n",
       "      <td>323.68</td>\n",
       "      <td>648.24</td>\n",
       "      <td>5,405,900</td>\n",
       "    </tr>\n",
       "    <tr>\n",
       "      <th>4</th>\n",
       "      <td>1/9/2012</td>\n",
       "      <td>322.04</td>\n",
       "      <td>322.29</td>\n",
       "      <td>309.46</td>\n",
       "      <td>620.76</td>\n",
       "      <td>11,688,800</td>\n",
       "    </tr>\n",
       "  </tbody>\n",
       "</table>\n",
       "</div>"
      ],
      "text/plain": [
       "       Date    Open    High     Low   Close      Volume\n",
       "0  1/3/2012  325.25  332.83  324.97  663.59   7,380,500\n",
       "1  1/4/2012  331.27  333.87  329.08  666.45   5,749,400\n",
       "2  1/5/2012  329.83  330.75  326.89  657.21   6,590,300\n",
       "3  1/6/2012  328.34  328.77  323.68  648.24   5,405,900\n",
       "4  1/9/2012  322.04  322.29  309.46  620.76  11,688,800"
      ]
     },
     "execution_count": 52,
     "metadata": {},
     "output_type": "execute_result"
    }
   ],
   "source": [
    "training_set = pd.read_csv('Dataset\\\\Google_Stock_Price_Train.csv')\n",
    "test_set = pd.read_csv('Dataset/Google_stock_Price_Test.csv')\n",
    "training_set.head()"
   ]
  },
  {
   "cell_type": "markdown",
   "id": "d2dbc92d",
   "metadata": {},
   "source": [
    "### <font color = #27C3E5> 1.2: </font> <font color = #41EA46> Data Information and Visualization </font>"
   ]
  },
  {
   "cell_type": "markdown",
   "id": "e1a1af7e",
   "metadata": {},
   "source": [
    "#### <font color = blue> View all Rows and Cols"
   ]
  },
  {
   "cell_type": "code",
   "execution_count": 16,
   "id": "b280f57f",
   "metadata": {},
   "outputs": [],
   "source": [
    "pd.set_option(\"display.max_rows\", None)\n",
    "pd.set_option(\"display.max_columns\", None)"
   ]
  },
  {
   "cell_type": "markdown",
   "id": "ab88bf65",
   "metadata": {},
   "source": [
    "#### <font color = blue> Shape of Data"
   ]
  },
  {
   "cell_type": "code",
   "execution_count": 54,
   "id": "73829c36",
   "metadata": {},
   "outputs": [
    {
     "name": "stdout",
     "output_type": "stream",
     "text": [
      "(1258, 6)\n",
      "(20, 6)\n"
     ]
    }
   ],
   "source": [
    "print(training_set.shape)\n",
    "print(test_set.shape)"
   ]
  },
  {
   "cell_type": "markdown",
   "id": "1c52a745",
   "metadata": {},
   "source": [
    "#### <font color = blue> Data Information"
   ]
  },
  {
   "cell_type": "code",
   "execution_count": 55,
   "id": "24dcfbaa",
   "metadata": {},
   "outputs": [
    {
     "name": "stdout",
     "output_type": "stream",
     "text": [
      "<class 'pandas.core.frame.DataFrame'>\n",
      "RangeIndex: 1258 entries, 0 to 1257\n",
      "Data columns (total 6 columns):\n",
      " #   Column  Non-Null Count  Dtype  \n",
      "---  ------  --------------  -----  \n",
      " 0   Date    1258 non-null   object \n",
      " 1   Open    1258 non-null   float64\n",
      " 2   High    1258 non-null   float64\n",
      " 3   Low     1258 non-null   float64\n",
      " 4   Close   1258 non-null   object \n",
      " 5   Volume  1258 non-null   object \n",
      "dtypes: float64(3), object(3)\n",
      "memory usage: 59.1+ KB\n"
     ]
    }
   ],
   "source": [
    "training_set.info()"
   ]
  },
  {
   "cell_type": "markdown",
   "id": "caaabcea",
   "metadata": {},
   "source": [
    "#### <font color = blue> Visualize the Data Distributiuon"
   ]
  },
  {
   "cell_type": "code",
   "execution_count": 56,
   "id": "8559b8c4",
   "metadata": {},
   "outputs": [
    {
     "data": {
      "text/plain": [
       "<seaborn.axisgrid.PairGrid at 0x1ff75dcbb80>"
      ]
     },
     "execution_count": 56,
     "metadata": {},
     "output_type": "execute_result"
    },
    {
     "data": {
      "image/png": "[encoded data removed]",
      "text/plain": [
       "<Figure size 540x540 with 12 Axes>"
      ]
     },
     "metadata": {},
     "output_type": "display_data"
    }
   ],
   "source": [
    "plt.style.use('fivethirtyeight')\n",
    "sns.pairplot(training_set)"
   ]
  },
  {
   "cell_type": "markdown",
   "id": "1b7add06",
   "metadata": {},
   "source": [
    "![Machine Learning Project](https://user-images.githubusercontent.com/7065401/52071927-c1cd7100-2562-11e9-908a-dde91ba14e59.png)"
   ]
  },
  {
   "cell_type": "markdown",
   "id": "4a76f0e4",
   "metadata": {},
   "source": [
    "## <font color = #950CDF> Part 2: </font> <font color = #4854E8> Data Preprocessing </font>"
   ]
  },
  {
   "cell_type": "markdown",
   "id": "881b22a2",
   "metadata": {},
   "source": [
    "![ML](https://user-images.githubusercontent.com/7065401/52071924-c003ad80-2562-11e9-8297-1c6595f8a7ff.png)"
   ]
  },
  {
   "cell_type": "markdown",
   "id": "d90a0a1a",
   "metadata": {},
   "source": [
    "### <font color = #27C3E5> 2.1: </font> <font color = #41EA46> Check Missing Value </font>"
   ]
  },
  {
   "cell_type": "code",
   "execution_count": 57,
   "id": "12911b93",
   "metadata": {},
   "outputs": [
    {
     "data": {
      "text/plain": [
       "Date      0\n",
       "Open      0\n",
       "High      0\n",
       "Low       0\n",
       "Close     0\n",
       "Volume    0\n",
       "dtype: int64"
      ]
     },
     "execution_count": 57,
     "metadata": {},
     "output_type": "execute_result"
    }
   ],
   "source": [
    "training_set.isnull().sum()"
   ]
  },
  {
   "cell_type": "code",
   "execution_count": 58,
   "id": "7c9dbdcf",
   "metadata": {},
   "outputs": [
    {
     "data": {
      "text/plain": [
       "Date      0\n",
       "Open      0\n",
       "High      0\n",
       "Low       0\n",
       "Close     0\n",
       "Volume    0\n",
       "dtype: int64"
      ]
     },
     "execution_count": 58,
     "metadata": {},
     "output_type": "execute_result"
    }
   ],
   "source": [
    "test_set.isnull().sum()"
   ]
  },
  {
   "cell_type": "markdown",
   "id": "c328956f",
   "metadata": {},
   "source": [
    "### <font color = #27C3E5> 2.2: </font> <font color = #41EA46> Access the Open Stock Price Col </font>"
   ]
  },
  {
   "cell_type": "code",
   "execution_count": 59,
   "id": "c4c31af8",
   "metadata": {},
   "outputs": [
    {
     "data": {
      "text/plain": [
       "array([[325.25],\n",
       "       [331.27],\n",
       "       [329.83],\n",
       "       ...,\n",
       "       [793.7 ],\n",
       "       [783.33],\n",
       "       [782.75]])"
      ]
     },
     "execution_count": 59,
     "metadata": {},
     "output_type": "execute_result"
    }
   ],
   "source": [
    "training_set = training_set.iloc[:,1:2].values\n",
    "test_set = test_set.iloc[:, 1:2].values\n",
    "training_set"
   ]
  },
  {
   "cell_type": "markdown",
   "id": "1366ee9a",
   "metadata": {},
   "source": [
    "### <font color = #27C3E5> 2.3: </font> <font color = #41EA46> Feature Scaling </font>"
   ]
  },
  {
   "cell_type": "code",
   "execution_count": 60,
   "id": "bb2a7bdc",
   "metadata": {},
   "outputs": [
    {
     "data": {
      "text/plain": [
       "array([[0.08581368],\n",
       "       [0.09701243],\n",
       "       [0.09433366],\n",
       "       ...,\n",
       "       [0.95725128],\n",
       "       [0.93796041],\n",
       "       [0.93688146]])"
      ]
     },
     "execution_count": 60,
     "metadata": {},
     "output_type": "execute_result"
    }
   ],
   "source": [
    "sc = MinMaxScaler()\n",
    "training_set = sc.fit_transform(training_set)\n",
    "training_set"
   ]
  },
  {
   "cell_type": "markdown",
   "id": "9291830e",
   "metadata": {},
   "source": [
    "### <font color = #27C3E5> 2.4: </font> <font color = #41EA46> Getting the Input and output </font>"
   ]
  },
  {
   "cell_type": "code",
   "execution_count": 61,
   "id": "25eae1e6",
   "metadata": {},
   "outputs": [],
   "source": [
    "X_train = training_set[0:1257]\n",
    "y_train = training_set[1:1258]"
   ]
  },
  {
   "cell_type": "markdown",
   "id": "104eb7db",
   "metadata": {},
   "source": [
    "### <font color = #27C3E5> 2.5: </font> <font color = #41EA46> Reshaping the Input </font>"
   ]
  },
  {
   "cell_type": "code",
   "execution_count": 62,
   "id": "ff89adda",
   "metadata": {},
   "outputs": [
    {
     "name": "stdout",
     "output_type": "stream",
     "text": [
      "Before Rehshape (1257, 1)\n",
      "After Rehshape (1257, 1, 1)\n"
     ]
    }
   ],
   "source": [
    "print(f\"Before Rehshape {X_train.shape}\")\n",
    "X_train = np.reshape(X_train, (1257, 1, 1))\n",
    "print(f\"After Rehshape {X_train.shape}\")"
   ]
  },
  {
   "cell_type": "markdown",
   "id": "249f98ab",
   "metadata": {},
   "source": [
    "![Machine Learning Project](https://user-images.githubusercontent.com/7065401/52071927-c1cd7100-2562-11e9-908a-dde91ba14e59.png)"
   ]
  },
  {
   "cell_type": "markdown",
   "id": "570dd6e8",
   "metadata": {},
   "source": [
    "## <font color = #950CDF> Part 3: </font> <font color = #4854E8> Build the Model </font>"
   ]
  },
  {
   "cell_type": "markdown",
   "id": "85921727",
   "metadata": {},
   "source": [
    "![ML](https://user-images.githubusercontent.com/7065401/52071924-c003ad80-2562-11e9-8297-1c6595f8a7ff.png)"
   ]
  },
  {
   "cell_type": "markdown",
   "id": "62eb2c14",
   "metadata": {},
   "source": [
    "### <font color = #27C3E5> 3.1: </font> <font color = #41EA46> Import Libraries </font>"
   ]
  },
  {
   "cell_type": "code",
   "execution_count": 63,
   "id": "3278e84d",
   "metadata": {},
   "outputs": [],
   "source": [
    "from keras.models import Sequential\n",
    "from keras.layers import Dense\n",
    "from keras.layers import LSTM"
   ]
  },
  {
   "cell_type": "markdown",
   "id": "e6cf5864",
   "metadata": {},
   "source": [
    "### <font color = #27C3E5> 3.2: </font> <font color = #41EA46> Build the LSTM</font>"
   ]
  },
  {
   "cell_type": "markdown",
   "id": "5bcbf835",
   "metadata": {},
   "source": [
    "#### <font color = blue> Initialize the model"
   ]
  },
  {
   "cell_type": "code",
   "execution_count": 64,
   "id": "e262e17b",
   "metadata": {},
   "outputs": [],
   "source": [
    "model = Sequential()"
   ]
  },
  {
   "cell_type": "markdown",
   "id": "be496bc9",
   "metadata": {},
   "source": [
    "#### <font color = blue> Adding the input and LSTM layer"
   ]
  },
  {
   "cell_type": "code",
   "execution_count": 65,
   "id": "16890705",
   "metadata": {},
   "outputs": [],
   "source": [
    "model.add(LSTM(units = 4, activation = 'sigmoid', input_shape = (None, 1)))"
   ]
  },
  {
   "cell_type": "markdown",
   "id": "effb5466",
   "metadata": {},
   "source": [
    "#### <font color = blue> Adding the Output layer"
   ]
  },
  {
   "cell_type": "code",
   "execution_count": 66,
   "id": "07f332a8",
   "metadata": {},
   "outputs": [],
   "source": [
    "model.add(Dense(units = 1))"
   ]
  },
  {
   "cell_type": "markdown",
   "id": "16c8db31",
   "metadata": {},
   "source": [
    "#### <font color = blue> Compile the Model"
   ]
  },
  {
   "cell_type": "code",
   "execution_count": 67,
   "id": "08605960",
   "metadata": {},
   "outputs": [],
   "source": [
    "model.compile(optimizer = 'adam', loss = 'mean_squared_error')"
   ]
  },
  {
   "cell_type": "markdown",
   "id": "a95230bb",
   "metadata": {},
   "source": [
    "#### <font color = blue> Fitting the RNN to the Training Set"
   ]
  },
  {
   "cell_type": "code",
   "execution_count": 68,
   "id": "ef0e6a3c",
   "metadata": {
    "scrolled": false
   },
   "outputs": [
    {
     "name": "stdout",
     "output_type": "stream",
     "text": [
      "Epoch 1/200\n",
      "40/40 [==============================] - 2s 3ms/step - loss: 0.0999\n",
      "Epoch 2/200\n",
      "40/40 [==============================] - 0s 4ms/step - loss: 0.0891\n",
      "Epoch 3/200\n",
      "40/40 [==============================] - 0s 4ms/step - loss: 0.0860\n",
      "Epoch 4/200\n",
      "40/40 [==============================] - 0s 5ms/step - loss: 0.0838\n",
      "Epoch 5/200\n",
      "40/40 [==============================] - 0s 5ms/step - loss: 0.0818\n",
      "Epoch 6/200\n",
      "40/40 [==============================] - 0s 6ms/step - loss: 0.0796\n",
      "Epoch 7/200\n",
      "40/40 [==============================] - 0s 4ms/step - loss: 0.0776\n",
      "Epoch 8/200\n",
      "40/40 [==============================] - 0s 4ms/step - loss: 0.0755\n",
      "Epoch 9/200\n",
      "40/40 [==============================] - 0s 4ms/step - loss: 0.0733\n",
      "Epoch 10/200\n",
      "40/40 [==============================] - 0s 4ms/step - loss: 0.0712\n",
      "Epoch 11/200\n",
      "40/40 [==============================] - 0s 4ms/step - loss: 0.0690\n",
      "Epoch 12/200\n",
      "40/40 [==============================] - 0s 7ms/step - loss: 0.0669\n",
      "Epoch 13/200\n",
      "40/40 [==============================] - 0s 4ms/step - loss: 0.0647\n",
      "Epoch 14/200\n",
      "40/40 [==============================] - 0s 3ms/step - loss: 0.0625\n",
      "Epoch 15/200\n",
      "40/40 [==============================] - 0s 4ms/step - loss: 0.0604\n",
      "Epoch 16/200\n",
      "40/40 [==============================] - 0s 4ms/step - loss: 0.0581\n",
      "Epoch 17/200\n",
      "40/40 [==============================] - 0s 3ms/step - loss: 0.0559\n",
      "Epoch 18/200\n",
      "40/40 [==============================] - 0s 3ms/step - loss: 0.0536\n",
      "Epoch 19/200\n",
      "40/40 [==============================] - 0s 3ms/step - loss: 0.0513\n",
      "Epoch 20/200\n",
      "40/40 [==============================] - 0s 4ms/step - loss: 0.0490\n",
      "Epoch 21/200\n",
      "40/40 [==============================] - 0s 4ms/step - loss: 0.0466\n",
      "Epoch 22/200\n",
      "40/40 [==============================] - 0s 5ms/step - loss: 0.0442\n",
      "Epoch 23/200\n",
      "40/40 [==============================] - 0s 7ms/step - loss: 0.0418\n",
      "Epoch 24/200\n",
      "40/40 [==============================] - 0s 6ms/step - loss: 0.0394\n",
      "Epoch 25/200\n",
      "40/40 [==============================] - 0s 4ms/step - loss: 0.0370\n",
      "Epoch 26/200\n",
      "40/40 [==============================] - 0s 5ms/step - loss: 0.0345\n",
      "Epoch 27/200\n",
      "40/40 [==============================] - 0s 7ms/step - loss: 0.0322\n",
      "Epoch 28/200\n",
      "40/40 [==============================] - 0s 5ms/step - loss: 0.0299\n",
      "Epoch 29/200\n",
      "40/40 [==============================] - 0s 4ms/step - loss: 0.0275\n",
      "Epoch 30/200\n",
      "40/40 [==============================] - 0s 4ms/step - loss: 0.0252\n",
      "Epoch 31/200\n",
      "40/40 [==============================] - 0s 4ms/step - loss: 0.0231\n",
      "Epoch 32/200\n",
      "40/40 [==============================] - 0s 4ms/step - loss: 0.0210\n",
      "Epoch 33/200\n",
      "40/40 [==============================] - 0s 6ms/step - loss: 0.0189\n",
      "Epoch 34/200\n",
      "40/40 [==============================] - 0s 5ms/step - loss: 0.0170\n",
      "Epoch 35/200\n",
      "40/40 [==============================] - 0s 3ms/step - loss: 0.0151\n",
      "Epoch 36/200\n",
      "40/40 [==============================] - 0s 6ms/step - loss: 0.0134\n",
      "Epoch 37/200\n",
      "40/40 [==============================] - 0s 5ms/step - loss: 0.0118\n",
      "Epoch 38/200\n",
      "40/40 [==============================] - 0s 3ms/step - loss: 0.0104\n",
      "Epoch 39/200\n",
      "40/40 [==============================] - 0s 3ms/step - loss: 0.0090\n",
      "Epoch 40/200\n",
      "40/40 [==============================] - 0s 3ms/step - loss: 0.0077\n",
      "Epoch 41/200\n",
      "40/40 [==============================] - 0s 4ms/step - loss: 0.0067\n",
      "Epoch 42/200\n",
      "40/40 [==============================] - 0s 4ms/step - loss: 0.0057\n",
      "Epoch 43/200\n",
      "40/40 [==============================] - 0s 4ms/step - loss: 0.0048\n",
      "Epoch 44/200\n",
      "40/40 [==============================] - 0s 4ms/step - loss: 0.0040\n",
      "Epoch 45/200\n",
      "40/40 [==============================] - 0s 5ms/step - loss: 0.0033\n",
      "Epoch 46/200\n",
      "40/40 [==============================] - 0s 6ms/step - loss: 0.0028\n",
      "Epoch 47/200\n",
      "40/40 [==============================] - 0s 4ms/step - loss: 0.0023\n",
      "Epoch 48/200\n",
      "40/40 [==============================] - 0s 5ms/step - loss: 0.0019\n",
      "Epoch 49/200\n",
      "40/40 [==============================] - 0s 4ms/step - loss: 0.0016\n",
      "Epoch 50/200\n",
      "40/40 [==============================] - 0s 4ms/step - loss: 0.0013\n",
      "Epoch 51/200\n",
      "40/40 [==============================] - 0s 3ms/step - loss: 0.0011\n",
      "Epoch 52/200\n",
      "40/40 [==============================] - 0s 3ms/step - loss: 8.7556e-04\n",
      "Epoch 53/200\n",
      "40/40 [==============================] - 0s 4ms/step - loss: 7.3170e-04\n",
      "Epoch 54/200\n",
      "40/40 [==============================] - 0s 3ms/step - loss: 6.1662e-04\n",
      "Epoch 55/200\n",
      "40/40 [==============================] - 0s 4ms/step - loss: 5.2809e-04\n",
      "Epoch 56/200\n",
      "40/40 [==============================] - 0s 4ms/step - loss: 4.5752e-04\n",
      "Epoch 57/200\n",
      "40/40 [==============================] - 0s 4ms/step - loss: 4.0513e-04\n",
      "Epoch 58/200\n",
      "40/40 [==============================] - 0s 3ms/step - loss: 3.6540e-04\n",
      "Epoch 59/200\n",
      "40/40 [==============================] - 0s 3ms/step - loss: 3.3589e-04\n",
      "Epoch 60/200\n",
      "40/40 [==============================] - 0s 3ms/step - loss: 3.1370e-04\n",
      "Epoch 61/200\n",
      "40/40 [==============================] - 0s 5ms/step - loss: 2.9703e-04\n",
      "Epoch 62/200\n",
      "40/40 [==============================] - 0s 3ms/step - loss: 2.8713e-04\n",
      "Epoch 63/200\n",
      "40/40 [==============================] - 0s 3ms/step - loss: 2.7677e-04\n",
      "Epoch 64/200\n",
      "40/40 [==============================] - 0s 3ms/step - loss: 2.7051e-04\n",
      "Epoch 65/200\n",
      "40/40 [==============================] - 0s 3ms/step - loss: 2.6584e-04\n",
      "Epoch 66/200\n",
      "40/40 [==============================] - 0s 4ms/step - loss: 2.6333e-04\n",
      "Epoch 67/200\n",
      "40/40 [==============================] - 0s 4ms/step - loss: 2.6092e-04\n",
      "Epoch 68/200\n",
      "40/40 [==============================] - 0s 4ms/step - loss: 2.5966e-04\n",
      "Epoch 69/200\n",
      "40/40 [==============================] - 0s 4ms/step - loss: 2.5806e-04\n",
      "Epoch 70/200\n",
      "40/40 [==============================] - 0s 4ms/step - loss: 2.5849e-04\n",
      "Epoch 71/200\n",
      "40/40 [==============================] - 0s 4ms/step - loss: 2.5763e-04\n",
      "Epoch 72/200\n",
      "40/40 [==============================] - 0s 4ms/step - loss: 2.5701e-04\n",
      "Epoch 73/200\n",
      "40/40 [==============================] - 0s 3ms/step - loss: 2.5712e-04\n",
      "Epoch 74/200\n",
      "40/40 [==============================] - 0s 3ms/step - loss: 2.5786e-04\n",
      "Epoch 75/200\n",
      "40/40 [==============================] - 0s 3ms/step - loss: 2.5764e-04\n",
      "Epoch 76/200\n",
      "40/40 [==============================] - 0s 3ms/step - loss: 2.5819e-04\n",
      "Epoch 77/200\n",
      "40/40 [==============================] - 0s 3ms/step - loss: 2.5705e-04\n",
      "Epoch 78/200\n",
      "40/40 [==============================] - 0s 3ms/step - loss: 2.5775e-04\n",
      "Epoch 79/200\n",
      "40/40 [==============================] - 0s 3ms/step - loss: 2.5683e-04\n",
      "Epoch 80/200\n",
      "40/40 [==============================] - 0s 5ms/step - loss: 2.5745e-04\n",
      "Epoch 81/200\n",
      "40/40 [==============================] - 0s 4ms/step - loss: 2.5910e-04\n",
      "Epoch 82/200\n",
      "40/40 [==============================] - 0s 3ms/step - loss: 2.5690e-04\n",
      "Epoch 83/200\n",
      "40/40 [==============================] - 0s 4ms/step - loss: 2.5721e-04\n",
      "Epoch 84/200\n",
      "40/40 [==============================] - 0s 3ms/step - loss: 2.5648e-04\n",
      "Epoch 85/200\n",
      "40/40 [==============================] - 0s 3ms/step - loss: 2.5834e-04\n",
      "Epoch 86/200\n",
      "40/40 [==============================] - 0s 3ms/step - loss: 2.5590e-04\n",
      "Epoch 87/200\n",
      "40/40 [==============================] - 0s 4ms/step - loss: 2.5802e-04\n",
      "Epoch 88/200\n",
      "40/40 [==============================] - 0s 5ms/step - loss: 2.5678e-04\n",
      "Epoch 89/200\n",
      "40/40 [==============================] - 0s 3ms/step - loss: 2.5707e-04\n",
      "Epoch 90/200\n",
      "40/40 [==============================] - 0s 4ms/step - loss: 2.5772e-04\n",
      "Epoch 91/200\n",
      "40/40 [==============================] - 0s 3ms/step - loss: 2.5767e-04\n",
      "Epoch 92/200\n",
      "40/40 [==============================] - 0s 3ms/step - loss: 2.5764e-04\n",
      "Epoch 93/200\n",
      "40/40 [==============================] - 0s 4ms/step - loss: 2.5730e-04\n",
      "Epoch 94/200\n",
      "40/40 [==============================] - 0s 4ms/step - loss: 2.5765e-04\n",
      "Epoch 95/200\n",
      "40/40 [==============================] - 0s 6ms/step - loss: 2.5842e-04\n",
      "Epoch 96/200\n",
      "40/40 [==============================] - 0s 5ms/step - loss: 2.5808e-04\n",
      "Epoch 97/200\n",
      "40/40 [==============================] - 0s 5ms/step - loss: 2.5633e-04\n",
      "Epoch 98/200\n",
      "40/40 [==============================] - 0s 6ms/step - loss: 2.5735e-04\n",
      "Epoch 99/200\n"
     ]
    },
    {
     "name": "stdout",
     "output_type": "stream",
     "text": [
      "40/40 [==============================] - 0s 6ms/step - loss: 2.5813e-04\n",
      "Epoch 100/200\n",
      "40/40 [==============================] - 0s 5ms/step - loss: 2.5728e-04\n",
      "Epoch 101/200\n",
      "40/40 [==============================] - 0s 4ms/step - loss: 2.5847e-04\n",
      "Epoch 102/200\n",
      "40/40 [==============================] - 0s 3ms/step - loss: 2.5831e-04\n",
      "Epoch 103/200\n",
      "40/40 [==============================] - 0s 3ms/step - loss: 2.5682e-04\n",
      "Epoch 104/200\n",
      "40/40 [==============================] - 0s 3ms/step - loss: 2.5908e-04\n",
      "Epoch 105/200\n",
      "40/40 [==============================] - 0s 3ms/step - loss: 2.5647e-04\n",
      "Epoch 106/200\n",
      "40/40 [==============================] - 0s 3ms/step - loss: 2.5701e-04\n",
      "Epoch 107/200\n",
      "40/40 [==============================] - 0s 3ms/step - loss: 2.5739e-04\n",
      "Epoch 108/200\n",
      "40/40 [==============================] - 0s 3ms/step - loss: 2.5748e-04\n",
      "Epoch 109/200\n",
      "40/40 [==============================] - 0s 3ms/step - loss: 2.5744e-04\n",
      "Epoch 110/200\n",
      "40/40 [==============================] - 0s 3ms/step - loss: 2.5799e-04\n",
      "Epoch 111/200\n",
      "40/40 [==============================] - 0s 3ms/step - loss: 2.5855e-04\n",
      "Epoch 112/200\n",
      "40/40 [==============================] - 0s 3ms/step - loss: 2.5733e-04\n",
      "Epoch 113/200\n",
      "40/40 [==============================] - 0s 3ms/step - loss: 2.5772e-04\n",
      "Epoch 114/200\n",
      "40/40 [==============================] - 0s 3ms/step - loss: 2.5683e-04\n",
      "Epoch 115/200\n",
      "40/40 [==============================] - 0s 3ms/step - loss: 2.5872e-04\n",
      "Epoch 116/200\n",
      "40/40 [==============================] - 0s 3ms/step - loss: 2.5701e-04\n",
      "Epoch 117/200\n",
      "40/40 [==============================] - 0s 3ms/step - loss: 2.5876e-04\n",
      "Epoch 118/200\n",
      "40/40 [==============================] - 0s 3ms/step - loss: 2.5785e-04\n",
      "Epoch 119/200\n",
      "40/40 [==============================] - 0s 4ms/step - loss: 2.5842e-04\n",
      "Epoch 120/200\n",
      "40/40 [==============================] - 0s 3ms/step - loss: 2.5742e-04\n",
      "Epoch 121/200\n",
      "40/40 [==============================] - 0s 4ms/step - loss: 2.6056e-04\n",
      "Epoch 122/200\n",
      "40/40 [==============================] - 0s 3ms/step - loss: 2.5870e-04\n",
      "Epoch 123/200\n",
      "40/40 [==============================] - 0s 3ms/step - loss: 2.5807e-04\n",
      "Epoch 124/200\n",
      "40/40 [==============================] - 0s 4ms/step - loss: 2.5789e-04\n",
      "Epoch 125/200\n",
      "40/40 [==============================] - 0s 4ms/step - loss: 2.5710e-04\n",
      "Epoch 126/200\n",
      "40/40 [==============================] - 0s 3ms/step - loss: 2.5782e-04\n",
      "Epoch 127/200\n",
      "40/40 [==============================] - 0s 4ms/step - loss: 2.6040e-04\n",
      "Epoch 128/200\n",
      "40/40 [==============================] - 0s 4ms/step - loss: 2.5730e-04\n",
      "Epoch 129/200\n",
      "40/40 [==============================] - 0s 3ms/step - loss: 2.5703e-04\n",
      "Epoch 130/200\n",
      "40/40 [==============================] - 0s 3ms/step - loss: 2.5739e-04\n",
      "Epoch 131/200\n",
      "40/40 [==============================] - 0s 3ms/step - loss: 2.5808e-04\n",
      "Epoch 132/200\n",
      "40/40 [==============================] - 0s 4ms/step - loss: 2.5973e-04\n",
      "Epoch 133/200\n",
      "40/40 [==============================] - 0s 4ms/step - loss: 2.6024e-04\n",
      "Epoch 134/200\n",
      "40/40 [==============================] - 0s 3ms/step - loss: 2.5853e-04\n",
      "Epoch 135/200\n",
      "40/40 [==============================] - 0s 3ms/step - loss: 2.5778e-04\n",
      "Epoch 136/200\n",
      "40/40 [==============================] - 0s 3ms/step - loss: 2.5932e-04\n",
      "Epoch 137/200\n",
      "40/40 [==============================] - 0s 3ms/step - loss: 2.6102e-04\n",
      "Epoch 138/200\n",
      "40/40 [==============================] - 0s 3ms/step - loss: 2.6028e-04\n",
      "Epoch 139/200\n",
      "40/40 [==============================] - 0s 3ms/step - loss: 2.6084e-04\n",
      "Epoch 140/200\n",
      "40/40 [==============================] - 0s 3ms/step - loss: 2.5704e-04\n",
      "Epoch 141/200\n",
      "40/40 [==============================] - 0s 3ms/step - loss: 2.5771e-04\n",
      "Epoch 142/200\n",
      "40/40 [==============================] - 0s 3ms/step - loss: 2.5895e-04\n",
      "Epoch 143/200\n",
      "40/40 [==============================] - 0s 3ms/step - loss: 2.6014e-04\n",
      "Epoch 144/200\n",
      "40/40 [==============================] - 0s 3ms/step - loss: 2.6682e-04\n",
      "Epoch 145/200\n",
      "40/40 [==============================] - 0s 3ms/step - loss: 2.5897e-04\n",
      "Epoch 146/200\n",
      "40/40 [==============================] - 0s 4ms/step - loss: 2.5725e-04\n",
      "Epoch 147/200\n",
      "40/40 [==============================] - 0s 4ms/step - loss: 2.5803e-04\n",
      "Epoch 148/200\n",
      "40/40 [==============================] - 0s 3ms/step - loss: 2.5832e-04\n",
      "Epoch 149/200\n",
      "40/40 [==============================] - 0s 3ms/step - loss: 2.6327e-04\n",
      "Epoch 150/200\n",
      "40/40 [==============================] - 0s 4ms/step - loss: 2.6025e-04\n",
      "Epoch 151/200\n",
      "40/40 [==============================] - 0s 3ms/step - loss: 2.5921e-04\n",
      "Epoch 152/200\n",
      "40/40 [==============================] - 0s 4ms/step - loss: 2.5982e-04\n",
      "Epoch 153/200\n",
      "40/40 [==============================] - 0s 5ms/step - loss: 2.6029e-04\n",
      "Epoch 154/200\n",
      "40/40 [==============================] - 0s 4ms/step - loss: 2.5710e-04\n",
      "Epoch 155/200\n",
      "40/40 [==============================] - 0s 4ms/step - loss: 2.5779e-04\n",
      "Epoch 156/200\n",
      "40/40 [==============================] - 0s 3ms/step - loss: 2.5712e-04\n",
      "Epoch 157/200\n",
      "40/40 [==============================] - 0s 4ms/step - loss: 2.5912e-04\n",
      "Epoch 158/200\n",
      "40/40 [==============================] - 0s 4ms/step - loss: 2.5672e-04\n",
      "Epoch 159/200\n",
      "40/40 [==============================] - 0s 3ms/step - loss: 2.5671e-04\n",
      "Epoch 160/200\n",
      "40/40 [==============================] - 0s 3ms/step - loss: 2.5835e-04\n",
      "Epoch 161/200\n",
      "40/40 [==============================] - 0s 4ms/step - loss: 2.5801e-04\n",
      "Epoch 162/200\n",
      "40/40 [==============================] - 0s 3ms/step - loss: 2.5730e-04\n",
      "Epoch 163/200\n",
      "40/40 [==============================] - 0s 4ms/step - loss: 2.5994e-04\n",
      "Epoch 164/200\n",
      "40/40 [==============================] - 0s 3ms/step - loss: 2.5859e-04\n",
      "Epoch 165/200\n",
      "40/40 [==============================] - 0s 5ms/step - loss: 2.6117e-04\n",
      "Epoch 166/200\n",
      "40/40 [==============================] - 0s 4ms/step - loss: 2.5760e-04\n",
      "Epoch 167/200\n",
      "40/40 [==============================] - 0s 3ms/step - loss: 2.5809e-04\n",
      "Epoch 168/200\n",
      "40/40 [==============================] - 0s 4ms/step - loss: 2.5697e-04\n",
      "Epoch 169/200\n",
      "40/40 [==============================] - 0s 5ms/step - loss: 2.5646e-04\n",
      "Epoch 170/200\n",
      "40/40 [==============================] - 0s 4ms/step - loss: 2.6430e-04\n",
      "Epoch 171/200\n",
      "40/40 [==============================] - 0s 3ms/step - loss: 2.6180e-04\n",
      "Epoch 172/200\n",
      "40/40 [==============================] - 0s 4ms/step - loss: 2.5850e-04\n",
      "Epoch 173/200\n",
      "40/40 [==============================] - 0s 3ms/step - loss: 2.5730e-04\n",
      "Epoch 174/200\n",
      "40/40 [==============================] - 0s 5ms/step - loss: 2.5947e-04\n",
      "Epoch 175/200\n",
      "40/40 [==============================] - 0s 4ms/step - loss: 2.6091e-04\n",
      "Epoch 176/200\n",
      "40/40 [==============================] - 0s 4ms/step - loss: 2.5839e-04\n",
      "Epoch 177/200\n",
      "40/40 [==============================] - 0s 3ms/step - loss: 2.5748e-04\n",
      "Epoch 178/200\n",
      "40/40 [==============================] - 0s 4ms/step - loss: 2.5741e-04\n",
      "Epoch 179/200\n",
      "40/40 [==============================] - 0s 4ms/step - loss: 2.6005e-04\n",
      "Epoch 180/200\n",
      "40/40 [==============================] - 0s 4ms/step - loss: 2.6194e-04\n",
      "Epoch 181/200\n",
      "40/40 [==============================] - 0s 3ms/step - loss: 2.6125e-04\n",
      "Epoch 182/200\n",
      "40/40 [==============================] - 0s 4ms/step - loss: 2.5616e-04\n",
      "Epoch 183/200\n",
      "40/40 [==============================] - 0s 4ms/step - loss: 2.5800e-04\n",
      "Epoch 184/200\n",
      "40/40 [==============================] - 0s 3ms/step - loss: 2.5934e-04\n",
      "Epoch 185/200\n",
      "40/40 [==============================] - 0s 4ms/step - loss: 2.5792e-04\n",
      "Epoch 186/200\n",
      "40/40 [==============================] - 0s 3ms/step - loss: 2.5929e-04\n",
      "Epoch 187/200\n",
      "40/40 [==============================] - 0s 3ms/step - loss: 2.5847e-04\n",
      "Epoch 188/200\n",
      "40/40 [==============================] - 0s 4ms/step - loss: 2.5805e-04\n",
      "Epoch 189/200\n",
      "40/40 [==============================] - 0s 3ms/step - loss: 2.5772e-04\n",
      "Epoch 190/200\n",
      "40/40 [==============================] - 0s 3ms/step - loss: 2.6503e-04\n",
      "Epoch 191/200\n",
      "40/40 [==============================] - 0s 4ms/step - loss: 2.5851e-04\n",
      "Epoch 192/200\n",
      "40/40 [==============================] - 0s 5ms/step - loss: 2.5909e-04\n",
      "Epoch 193/200\n",
      "40/40 [==============================] - 0s 4ms/step - loss: 2.6012e-04\n",
      "Epoch 194/200\n"
     ]
    },
    {
     "name": "stdout",
     "output_type": "stream",
     "text": [
      "40/40 [==============================] - 0s 4ms/step - loss: 2.6384e-04\n",
      "Epoch 195/200\n",
      "40/40 [==============================] - 0s 4ms/step - loss: 2.6075e-04\n",
      "Epoch 196/200\n",
      "40/40 [==============================] - 0s 4ms/step - loss: 2.6239e-04\n",
      "Epoch 197/200\n",
      "40/40 [==============================] - 0s 4ms/step - loss: 2.6218e-04\n",
      "Epoch 198/200\n",
      "40/40 [==============================] - 0s 4ms/step - loss: 2.6313e-04\n",
      "Epoch 199/200\n",
      "40/40 [==============================] - 0s 4ms/step - loss: 2.5953e-04\n",
      "Epoch 200/200\n",
      "40/40 [==============================] - 0s 4ms/step - loss: 2.5866e-04\n"
     ]
    },
    {
     "data": {
      "text/plain": [
       "<keras.callbacks.History at 0x1ff75aec5b0>"
      ]
     },
     "execution_count": 68,
     "metadata": {},
     "output_type": "execute_result"
    }
   ],
   "source": [
    "model.fit(X_train, y_train, batch_size = 32, epochs = 200)"
   ]
  },
  {
   "cell_type": "markdown",
   "id": "be3415c7",
   "metadata": {},
   "source": [
    "![Machine Learning Project](https://user-images.githubusercontent.com/7065401/52071927-c1cd7100-2562-11e9-908a-dde91ba14e59.png)"
   ]
  },
  {
   "cell_type": "markdown",
   "id": "e56149f0",
   "metadata": {},
   "source": [
    "## <font color = #950CDF> Part 4: </font> <font color = #4854E8> Making a Prediction and Visualize the Result </font>"
   ]
  },
  {
   "cell_type": "markdown",
   "id": "a17bdcb1",
   "metadata": {},
   "source": [
    "![ML](https://user-images.githubusercontent.com/7065401/52071924-c003ad80-2562-11e9-8297-1c6595f8a7ff.png)"
   ]
  },
  {
   "cell_type": "markdown",
   "id": "058d3dfb",
   "metadata": {},
   "source": [
    " ### <font color = #27C3E5> 4.1: </font> <font color = #41EA46> Getting prediction and Visualization (Test Set) </font>"
   ]
  },
  {
   "cell_type": "markdown",
   "id": "4232ec63",
   "metadata": {},
   "source": [
    "#### <font color = blue> Prediction"
   ]
  },
  {
   "cell_type": "code",
   "execution_count": 69,
   "id": "fb2d3c09",
   "metadata": {},
   "outputs": [],
   "source": [
    "real_stock_price = test_set\n",
    "inputs = real_stock_price\n",
    "inputs = sc.transform(test_set)                   # feature scaling\n",
    "inputs = np.reshape(inputs, (20, 1, 1))           # reshape the data\n",
    "predicted_stock_price = model.predict(inputs)     # prediction"
   ]
  },
  {
   "cell_type": "markdown",
   "id": "9fb12c56",
   "metadata": {},
   "source": [
    "#### <font color = blue> Visualization"
   ]
  },
  {
   "cell_type": "code",
   "execution_count": 70,
   "id": "9c2cbc6a",
   "metadata": {},
   "outputs": [
    {
     "data": {
      "image/png": "[encoded data removed]",
      "text/plain": [
       "<Figure size 432x288 with 1 Axes>"
      ]
     },
     "metadata": {},
     "output_type": "display_data"
    }
   ],
   "source": [
    "# inverse to the original scale\n",
    "predicted_stock_price = sc.inverse_transform(predicted_stock_price)\n",
    "\n",
    "# visualize the result\n",
    "plt.plot( real_stock_price , color = 'red' , label = 'Real Google Stock Price')\n",
    "plt.plot( predicted_stock_price , color = 'blue' , label = 'Predicted Google Stock Price')\n",
    "plt.title('Google Stock Price Prediction')\n",
    "plt.xlabel( 'time' )\n",
    "plt.ylabel( 'Google Stock Price' )\n",
    "plt.legend()\n",
    "plt.show()"
   ]
  },
  {
   "cell_type": "markdown",
   "id": "cc59f0de",
   "metadata": {},
   "source": [
    "### <font color = #27C3E5> 4.2: </font> <font color = #41EA46> Getting prediction and Visualization (Training Set) </font>"
   ]
  },
  {
   "cell_type": "markdown",
   "id": "bd444691",
   "metadata": {},
   "source": [
    "#### <font color = blue> Prediction"
   ]
  },
  {
   "cell_type": "code",
   "execution_count": 71,
   "id": "f831cdb9",
   "metadata": {},
   "outputs": [],
   "source": [
    "training_set = pd.read_csv('Dataset\\\\Google_Stock_Price_Train.csv')\n",
    "training_set = training_set.iloc[:, 1:2].values\n",
    "\n",
    "real_stock_price = training_set\n",
    "inputs = real_stock_price\n",
    "inputs = sc.transform(inputs)\n",
    "inputs = np.reshape(inputs, (1258, 1, 1))\n",
    "predicted_stock_price = model.predict(inputs)"
   ]
  },
  {
   "cell_type": "markdown",
   "id": "dcdc327c",
   "metadata": {},
   "source": [
    "#### <font color = blue> Visualization"
   ]
  },
  {
   "cell_type": "code",
   "execution_count": 72,
   "id": "f86d24d6",
   "metadata": {},
   "outputs": [
    {
     "data": {
      "image/png": "[encoded data removed]",
      "text/plain": [
       "<Figure size 432x288 with 1 Axes>"
      ]
     },
     "metadata": {},
     "output_type": "display_data"
    }
   ],
   "source": [
    "# inverse to the original scale\n",
    "predicted_stock_price = sc.inverse_transform(predicted_stock_price)\n",
    "\n",
    "# visualize the result \n",
    "plt.plot( real_stock_price , color = 'red' , label = 'Real Google Stock Price')\n",
    "plt.plot( predicted_stock_price , color = 'blue' , label = 'Predicted Google Stock Price')\n",
    "plt.title('Google Stock Price Prediction')\n",
    "plt.xlabel( 'time' )\n",
    "plt.ylabel( 'Google Stock Price' )\n",
    "plt.legend()\n",
    "plt.show()"
   ]
  },
  {
   "cell_type": "markdown",
   "id": "6cdd4104",
   "metadata": {},
   "source": [
    "![Machine Learning Project](https://user-images.githubusercontent.com/7065401/52071927-c1cd7100-2562-11e9-908a-dde91ba14e59.png)"
   ]
  },
  {
   "cell_type": "markdown",
   "id": "810e985f",
   "metadata": {},
   "source": [
    "<b>©</b>Amir Ali"
   ]
  }
 ],
 "metadata": {
  "kernelspec": {
   "display_name": "Python 3 (ipykernel)",
   "language": "python",
   "name": "python3"
  },
  "language_info": {
   "codemirror_mode": {
    "name": "ipython",
    "version": 3
   },
   "file_extension": ".py",
   "mimetype": "text/x-python",
   "name": "python",
   "nbconvert_exporter": "python",
   "pygments_lexer": "ipython3",
   "version": "3.9.7"
  }
 },
 "nbformat": 4,
 "nbformat_minor": 5
}
