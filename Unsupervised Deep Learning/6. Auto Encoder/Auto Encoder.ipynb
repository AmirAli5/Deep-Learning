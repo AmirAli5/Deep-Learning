{
 "cells": [
  {
   "cell_type": "markdown",
   "metadata": {},
   "source": [
    "![Stack Auto Encoder](https://pbs.twimg.com/media/FdHwrRPWAAAvZDn?format=jpg&name=medium)"
   ]
  },
  {
   "cell_type": "markdown",
   "metadata": {},
   "source": [
    "The basic structure of Autoencoders contains three layers. The basic purpose of Autoencoders is that when trained, the output should be exactly the same as the input. So if we feed the network a picture of a cat, it will give the exact same picture back. Autoencoders have an input layer, an output layer and one or more hidden layers connecting them, but with the output layer having the same number of nodes as the input layer, and with the purpose of reconstructing its own inputs instead of predicting the target value Y given inputs X.\n",
    "\n",
    "[Click to see my complete article on Auto Encoder](https://medium.com/machine-learning-researcher/auto-encoder-d942a29c9807)"
   ]
  },
  {
   "cell_type": "markdown",
   "metadata": {},
   "source": [
    "![Machine Learning Project](https://user-images.githubusercontent.com/7065401/52071927-c1cd7100-2562-11e9-908a-dde91ba14e59.png)"
   ]
  },
  {
   "cell_type": "markdown",
   "metadata": {},
   "source": [
    "## <font color = #950CDF> Part 1: </font> <font color = #4854E8> Data Preprocessing </font>"
   ]
  },
  {
   "cell_type": "markdown",
   "metadata": {},
   "source": [
    "![ML](https://user-images.githubusercontent.com/7065401/52071924-c003ad80-2562-11e9-8297-1c6595f8a7ff.png)"
   ]
  },
  {
   "cell_type": "markdown",
   "metadata": {},
   "source": [
    "#### <font color = blue>Import the Libraries"
   ]
  },
  {
   "cell_type": "code",
   "execution_count": 1,
   "metadata": {},
   "outputs": [],
   "source": [
    "import numpy as np\n",
    "import pandas as pd\n",
    "import torch\n",
    "import torch.nn as nn\n",
    "import torch.nn.parallel\n",
    "import torch.optim as optim\n",
    "import torch.utils.data\n",
    "from torch.autograd import Variable"
   ]
  },
  {
   "cell_type": "markdown",
   "metadata": {},
   "source": [
    "#### <font color = blue> Importing the dataset"
   ]
  },
  {
   "cell_type": "code",
   "execution_count": 2,
   "metadata": {},
   "outputs": [],
   "source": [
    "movies = pd.read_csv('Dataset/ml-1m/movies.dat', sep = '::', header = None, engine = 'python', encoding = 'latin-1')\n",
    "users = pd.read_csv('Dataset/ml-1m/users.dat', sep = '::', header = None, engine = 'python', encoding = 'latin-1')\n",
    "ratings = pd.read_csv('Dataset/ml-1m/ratings.dat', sep = '::', header = None, engine = 'python', encoding = 'latin-1')"
   ]
  },
  {
   "cell_type": "code",
   "execution_count": 3,
   "metadata": {},
   "outputs": [
    {
     "data": {
      "text/html": [
       "<div>\n",
       "<style scoped>\n",
       "    .dataframe tbody tr th:only-of-type {\n",
       "        vertical-align: middle;\n",
       "    }\n",
       "\n",
       "    .dataframe tbody tr th {\n",
       "        vertical-align: top;\n",
       "    }\n",
       "\n",
       "    .dataframe thead th {\n",
       "        text-align: right;\n",
       "    }\n",
       "</style>\n",
       "<table border=\"1\" class=\"dataframe\">\n",
       "  <thead>\n",
       "    <tr style=\"text-align: right;\">\n",
       "      <th></th>\n",
       "      <th>0</th>\n",
       "      <th>1</th>\n",
       "      <th>2</th>\n",
       "    </tr>\n",
       "  </thead>\n",
       "  <tbody>\n",
       "    <tr>\n",
       "      <th>0</th>\n",
       "      <td>1</td>\n",
       "      <td>Toy Story (1995)</td>\n",
       "      <td>Animation|Children's|Comedy</td>\n",
       "    </tr>\n",
       "    <tr>\n",
       "      <th>1</th>\n",
       "      <td>2</td>\n",
       "      <td>Jumanji (1995)</td>\n",
       "      <td>Adventure|Children's|Fantasy</td>\n",
       "    </tr>\n",
       "    <tr>\n",
       "      <th>2</th>\n",
       "      <td>3</td>\n",
       "      <td>Grumpier Old Men (1995)</td>\n",
       "      <td>Comedy|Romance</td>\n",
       "    </tr>\n",
       "    <tr>\n",
       "      <th>3</th>\n",
       "      <td>4</td>\n",
       "      <td>Waiting to Exhale (1995)</td>\n",
       "      <td>Comedy|Drama</td>\n",
       "    </tr>\n",
       "    <tr>\n",
       "      <th>4</th>\n",
       "      <td>5</td>\n",
       "      <td>Father of the Bride Part II (1995)</td>\n",
       "      <td>Comedy</td>\n",
       "    </tr>\n",
       "  </tbody>\n",
       "</table>\n",
       "</div>"
      ],
      "text/plain": [
       "   0                                   1                             2\n",
       "0  1                    Toy Story (1995)   Animation|Children's|Comedy\n",
       "1  2                      Jumanji (1995)  Adventure|Children's|Fantasy\n",
       "2  3             Grumpier Old Men (1995)                Comedy|Romance\n",
       "3  4            Waiting to Exhale (1995)                  Comedy|Drama\n",
       "4  5  Father of the Bride Part II (1995)                        Comedy"
      ]
     },
     "execution_count": 3,
     "metadata": {},
     "output_type": "execute_result"
    }
   ],
   "source": [
    "movies.head()"
   ]
  },
  {
   "cell_type": "code",
   "execution_count": 4,
   "metadata": {},
   "outputs": [
    {
     "data": {
      "text/html": [
       "<div>\n",
       "<style scoped>\n",
       "    .dataframe tbody tr th:only-of-type {\n",
       "        vertical-align: middle;\n",
       "    }\n",
       "\n",
       "    .dataframe tbody tr th {\n",
       "        vertical-align: top;\n",
       "    }\n",
       "\n",
       "    .dataframe thead th {\n",
       "        text-align: right;\n",
       "    }\n",
       "</style>\n",
       "<table border=\"1\" class=\"dataframe\">\n",
       "  <thead>\n",
       "    <tr style=\"text-align: right;\">\n",
       "      <th></th>\n",
       "      <th>0</th>\n",
       "      <th>1</th>\n",
       "      <th>2</th>\n",
       "      <th>3</th>\n",
       "      <th>4</th>\n",
       "    </tr>\n",
       "  </thead>\n",
       "  <tbody>\n",
       "    <tr>\n",
       "      <th>0</th>\n",
       "      <td>1</td>\n",
       "      <td>F</td>\n",
       "      <td>1</td>\n",
       "      <td>10</td>\n",
       "      <td>48067</td>\n",
       "    </tr>\n",
       "    <tr>\n",
       "      <th>1</th>\n",
       "      <td>2</td>\n",
       "      <td>M</td>\n",
       "      <td>56</td>\n",
       "      <td>16</td>\n",
       "      <td>70072</td>\n",
       "    </tr>\n",
       "    <tr>\n",
       "      <th>2</th>\n",
       "      <td>3</td>\n",
       "      <td>M</td>\n",
       "      <td>25</td>\n",
       "      <td>15</td>\n",
       "      <td>55117</td>\n",
       "    </tr>\n",
       "    <tr>\n",
       "      <th>3</th>\n",
       "      <td>4</td>\n",
       "      <td>M</td>\n",
       "      <td>45</td>\n",
       "      <td>7</td>\n",
       "      <td>02460</td>\n",
       "    </tr>\n",
       "    <tr>\n",
       "      <th>4</th>\n",
       "      <td>5</td>\n",
       "      <td>M</td>\n",
       "      <td>25</td>\n",
       "      <td>20</td>\n",
       "      <td>55455</td>\n",
       "    </tr>\n",
       "  </tbody>\n",
       "</table>\n",
       "</div>"
      ],
      "text/plain": [
       "   0  1   2   3      4\n",
       "0  1  F   1  10  48067\n",
       "1  2  M  56  16  70072\n",
       "2  3  M  25  15  55117\n",
       "3  4  M  45   7  02460\n",
       "4  5  M  25  20  55455"
      ]
     },
     "execution_count": 4,
     "metadata": {},
     "output_type": "execute_result"
    }
   ],
   "source": [
    "users.head()"
   ]
  },
  {
   "cell_type": "code",
   "execution_count": 5,
   "metadata": {},
   "outputs": [
    {
     "data": {
      "text/html": [
       "<div>\n",
       "<style scoped>\n",
       "    .dataframe tbody tr th:only-of-type {\n",
       "        vertical-align: middle;\n",
       "    }\n",
       "\n",
       "    .dataframe tbody tr th {\n",
       "        vertical-align: top;\n",
       "    }\n",
       "\n",
       "    .dataframe thead th {\n",
       "        text-align: right;\n",
       "    }\n",
       "</style>\n",
       "<table border=\"1\" class=\"dataframe\">\n",
       "  <thead>\n",
       "    <tr style=\"text-align: right;\">\n",
       "      <th></th>\n",
       "      <th>0</th>\n",
       "      <th>1</th>\n",
       "      <th>2</th>\n",
       "      <th>3</th>\n",
       "    </tr>\n",
       "  </thead>\n",
       "  <tbody>\n",
       "    <tr>\n",
       "      <th>0</th>\n",
       "      <td>1</td>\n",
       "      <td>1193</td>\n",
       "      <td>5</td>\n",
       "      <td>978300760</td>\n",
       "    </tr>\n",
       "    <tr>\n",
       "      <th>1</th>\n",
       "      <td>1</td>\n",
       "      <td>661</td>\n",
       "      <td>3</td>\n",
       "      <td>978302109</td>\n",
       "    </tr>\n",
       "    <tr>\n",
       "      <th>2</th>\n",
       "      <td>1</td>\n",
       "      <td>914</td>\n",
       "      <td>3</td>\n",
       "      <td>978301968</td>\n",
       "    </tr>\n",
       "    <tr>\n",
       "      <th>3</th>\n",
       "      <td>1</td>\n",
       "      <td>3408</td>\n",
       "      <td>4</td>\n",
       "      <td>978300275</td>\n",
       "    </tr>\n",
       "    <tr>\n",
       "      <th>4</th>\n",
       "      <td>1</td>\n",
       "      <td>2355</td>\n",
       "      <td>5</td>\n",
       "      <td>978824291</td>\n",
       "    </tr>\n",
       "  </tbody>\n",
       "</table>\n",
       "</div>"
      ],
      "text/plain": [
       "   0     1  2          3\n",
       "0  1  1193  5  978300760\n",
       "1  1   661  3  978302109\n",
       "2  1   914  3  978301968\n",
       "3  1  3408  4  978300275\n",
       "4  1  2355  5  978824291"
      ]
     },
     "execution_count": 5,
     "metadata": {},
     "output_type": "execute_result"
    }
   ],
   "source": [
    "ratings.head()"
   ]
  },
  {
   "cell_type": "markdown",
   "metadata": {},
   "source": [
    "#### <font color = blue> Preparing the training set and the test set"
   ]
  },
  {
   "cell_type": "code",
   "execution_count": 9,
   "metadata": {},
   "outputs": [],
   "source": [
    "training_set = pd.read_csv('Dataset/ml-100k/u1.base', delimiter = '\\t')\n",
    "training_set = np.array(training_set, dtype = 'int')\n",
    "test_set = pd.read_csv('Dataset/ml-100k/u1.test', delimiter = '\\t')\n",
    "test_set = np.array(test_set, dtype = 'int')"
   ]
  },
  {
   "cell_type": "code",
   "execution_count": 10,
   "metadata": {},
   "outputs": [
    {
     "data": {
      "text/plain": [
       "array([[        1,         2,         3, 876893171],\n",
       "       [        1,         3,         4, 878542960],\n",
       "       [        1,         4,         3, 876893119],\n",
       "       ...,\n",
       "       [      943,      1188,         3, 888640250],\n",
       "       [      943,      1228,         3, 888640275],\n",
       "       [      943,      1330,         3, 888692465]])"
      ]
     },
     "execution_count": 10,
     "metadata": {},
     "output_type": "execute_result"
    }
   ],
   "source": [
    "training_set"
   ]
  },
  {
   "cell_type": "code",
   "execution_count": 11,
   "metadata": {},
   "outputs": [
    {
     "data": {
      "text/plain": [
       "array([[        1,        10,         3, 875693118],\n",
       "       [        1,        12,         5, 878542960],\n",
       "       [        1,        14,         5, 874965706],\n",
       "       ...,\n",
       "       [      459,       934,         3, 879563639],\n",
       "       [      460,        10,         3, 882912371],\n",
       "       [      462,       682,         5, 886365231]])"
      ]
     },
     "execution_count": 11,
     "metadata": {},
     "output_type": "execute_result"
    }
   ],
   "source": [
    "test_set"
   ]
  },
  {
   "cell_type": "markdown",
   "metadata": {},
   "source": [
    "#### <font color = blue> Getting the number of users and movies"
   ]
  },
  {
   "cell_type": "code",
   "execution_count": 12,
   "metadata": {},
   "outputs": [],
   "source": [
    "nb_users = int(max(max(training_set[:,0]), max(test_set[:,0])))\n",
    "nb_movies = int(max(max(training_set[:,1]), max(test_set[:,1])))"
   ]
  },
  {
   "cell_type": "markdown",
   "metadata": {},
   "source": [
    "#### <font color = blue> Converting the data into an array with users in lines and movies in columns"
   ]
  },
  {
   "cell_type": "code",
   "execution_count": 5,
   "metadata": {},
   "outputs": [],
   "source": [
    "def convert(data):\n",
    "    new_data = []\n",
    "    for id_users in range(1, nb_users +1):\n",
    "        id_movies = data[:,1][data[:,0] == id_users ]\n",
    "        id_ratings = data[:,2][data[:,0] == id_users ]\n",
    "        ratings = np.zeros(nb_movies)\n",
    "        ratings[id_movies -1] = id_ratings\n",
    "        new_data.append(list(ratings))\n",
    "    return new_data"
   ]
  },
  {
   "cell_type": "markdown",
   "metadata": {},
   "source": [
    "#### <font color = blue> Converting the data into Torch tensors"
   ]
  },
  {
   "cell_type": "code",
   "execution_count": 6,
   "metadata": {},
   "outputs": [],
   "source": [
    "training_set = convert(training_set)\n",
    "test_set = convert(test_set)"
   ]
  },
  {
   "cell_type": "code",
   "execution_count": 7,
   "metadata": {},
   "outputs": [],
   "source": [
    "training_set = torch.FloatTensor(training_set)\n",
    "test_set = torch.FloatTensor(test_set)"
   ]
  },
  {
   "cell_type": "markdown",
   "metadata": {},
   "source": [
    "![Machine Learning Project](https://user-images.githubusercontent.com/7065401/52071927-c1cd7100-2562-11e9-908a-dde91ba14e59.png)"
   ]
  },
  {
   "cell_type": "markdown",
   "metadata": {},
   "source": [
    "## <font color = #950CDF> Part 2: </font> <font color = #4854E8> Building the Auto Encoder"
   ]
  },
  {
   "cell_type": "markdown",
   "metadata": {},
   "source": [
    "![ML](https://user-images.githubusercontent.com/7065401/52071924-c003ad80-2562-11e9-8297-1c6595f8a7ff.png)"
   ]
  },
  {
   "cell_type": "markdown",
   "metadata": {},
   "source": [
    "#### <font color = blue> Creating the architecture of the Neural Network"
   ]
  },
  {
   "cell_type": "code",
   "execution_count": 8,
   "metadata": {},
   "outputs": [],
   "source": [
    "class SAE(nn.Module):\n",
    "    def __init__(self, ):\n",
    "        super(SAE, self).__init__()\n",
    "        self.fc1 = nn.Linear(nb_movies, 20)\n",
    "        self.fc2 = nn.Linear(20, 10)\n",
    "        self.fc3 = nn.Linear(10, 20)\n",
    "        self.fc4 = nn.Linear(20, nb_movies)\n",
    "        self.activation = nn.Sigmoid()\n",
    "    def forward(self, x):\n",
    "        x = self.activation(self.fc1(x))\n",
    "        x = self.activation(self.fc2(x))\n",
    "        x = self.activation(self.fc3(x))\n",
    "        x = self.fc4(x)\n",
    "        return x\n",
    "sae = SAE()\n",
    "criterion = nn.MSELoss()\n",
    "optimizer = optim.RMSprop(sae.parameters(), lr = 0.01, weight_decay = 0.5)"
   ]
  },
  {
   "cell_type": "markdown",
   "metadata": {},
   "source": [
    "![Machine Learning Project](https://user-images.githubusercontent.com/7065401/52071927-c1cd7100-2562-11e9-908a-dde91ba14e59.png)"
   ]
  },
  {
   "cell_type": "markdown",
   "metadata": {},
   "source": [
    "## <font color = #950CDF> Part 3: </font> <font color = #4854E8> Training and Testing the Model </font>"
   ]
  },
  {
   "cell_type": "markdown",
   "metadata": {},
   "source": [
    "![ML](https://user-images.githubusercontent.com/7065401/52071924-c003ad80-2562-11e9-8297-1c6595f8a7ff.png)"
   ]
  },
  {
   "cell_type": "markdown",
   "metadata": {},
   "source": [
    "#### <font color = blue> Training the Model"
   ]
  },
  {
   "cell_type": "code",
   "execution_count": 9,
   "metadata": {},
   "outputs": [
    {
     "name": "stdout",
     "output_type": "stream",
     "text": [
      "epoch: 1 loss: 1.7711133303985094\n",
      "epoch: 2 loss: 1.096632573171366\n",
      "epoch: 3 loss: 1.0533801676789927\n",
      "epoch: 4 loss: 1.0385023174505277\n",
      "epoch: 5 loss: 1.0307139189022823\n",
      "epoch: 6 loss: 1.026517515543078\n",
      "epoch: 7 loss: 1.0237608601205421\n",
      "epoch: 8 loss: 1.021792910761072\n",
      "epoch: 9 loss: 1.020784433517058\n",
      "epoch: 10 loss: 1.0197795504402403\n",
      "epoch: 11 loss: 1.018616674247378\n",
      "epoch: 12 loss: 1.0182621153955644\n",
      "epoch: 13 loss: 1.0178150443388185\n",
      "epoch: 14 loss: 1.017546251986481\n",
      "epoch: 15 loss: 1.0170252043758132\n",
      "epoch: 16 loss: 1.0169583348459938\n",
      "epoch: 17 loss: 1.0163553127306588\n",
      "epoch: 18 loss: 1.0167324061978906\n",
      "epoch: 19 loss: 1.0162972453583903\n",
      "epoch: 20 loss: 1.0160393731851949\n",
      "epoch: 21 loss: 1.0161661002519986\n",
      "epoch: 22 loss: 1.0158637064411984\n",
      "epoch: 23 loss: 1.0155812994935154\n",
      "epoch: 24 loss: 1.0158356033417313\n",
      "epoch: 25 loss: 1.015608623373496\n",
      "epoch: 26 loss: 1.0156063088067577\n",
      "epoch: 27 loss: 1.0153759484798945\n",
      "epoch: 28 loss: 1.014920415593699\n",
      "epoch: 29 loss: 1.013352768490542\n",
      "epoch: 30 loss: 1.0112942153432218\n",
      "epoch: 31 loss: 1.0096290920823756\n",
      "epoch: 32 loss: 1.0089553075608448\n",
      "epoch: 33 loss: 1.0052968534595093\n",
      "epoch: 34 loss: 1.0049950603209872\n",
      "epoch: 35 loss: 1.0016916434082248\n",
      "epoch: 36 loss: 0.9998375372147879\n",
      "epoch: 37 loss: 0.9960032714130426\n",
      "epoch: 38 loss: 0.9971105693815641\n",
      "epoch: 39 loss: 0.9937583387339343\n",
      "epoch: 40 loss: 0.9910916038368269\n",
      "epoch: 41 loss: 0.9882811661550993\n",
      "epoch: 42 loss: 0.9872706424352972\n",
      "epoch: 43 loss: 0.9852353136179958\n",
      "epoch: 44 loss: 0.9858075079601447\n",
      "epoch: 45 loss: 0.9846965539702569\n",
      "epoch: 46 loss: 0.9864905770051425\n",
      "epoch: 47 loss: 0.9846323511004312\n",
      "epoch: 48 loss: 0.979231577372659\n",
      "epoch: 49 loss: 0.9749692958381376\n",
      "epoch: 50 loss: 0.9779199030378445\n",
      "epoch: 51 loss: 0.9764376877330443\n",
      "epoch: 52 loss: 0.975457492852789\n",
      "epoch: 53 loss: 0.9760644664878914\n",
      "epoch: 54 loss: 0.9742456745990072\n",
      "epoch: 55 loss: 0.9726672908804644\n",
      "epoch: 56 loss: 0.9725664491843278\n",
      "epoch: 57 loss: 0.9683829279061563\n",
      "epoch: 58 loss: 0.9696258445286156\n",
      "epoch: 59 loss: 0.9658398953030267\n",
      "epoch: 60 loss: 0.9632090207248856\n",
      "epoch: 61 loss: 0.9603033857355836\n",
      "epoch: 62 loss: 0.9582141368178232\n",
      "epoch: 63 loss: 0.9579228606998051\n",
      "epoch: 64 loss: 0.9546057250439748\n",
      "epoch: 65 loss: 0.9539861448515828\n",
      "epoch: 66 loss: 0.9536403561032263\n",
      "epoch: 67 loss: 0.9509916154082357\n",
      "epoch: 68 loss: 0.951326353745407\n",
      "epoch: 69 loss: 0.9538347330438732\n",
      "epoch: 70 loss: 0.9518385837808893\n",
      "epoch: 71 loss: 0.9496148608594999\n",
      "epoch: 72 loss: 0.94808378897956\n",
      "epoch: 73 loss: 0.9464072723333128\n",
      "epoch: 74 loss: 0.9483200312960042\n",
      "epoch: 75 loss: 0.9440897997916645\n",
      "epoch: 76 loss: 0.9454832620467936\n",
      "epoch: 77 loss: 0.9424875193330825\n",
      "epoch: 78 loss: 0.944902995912725\n",
      "epoch: 79 loss: 0.942919994689176\n",
      "epoch: 80 loss: 0.9431515995201335\n",
      "epoch: 81 loss: 0.9409234363242209\n",
      "epoch: 82 loss: 0.9417921948640926\n",
      "epoch: 83 loss: 0.9395284264399978\n",
      "epoch: 84 loss: 0.9401458037163625\n",
      "epoch: 85 loss: 0.940885079651139\n",
      "epoch: 86 loss: 0.9401607270670144\n",
      "epoch: 87 loss: 0.9374212933891486\n",
      "epoch: 88 loss: 0.9382946413863151\n",
      "epoch: 89 loss: 0.9364057447774681\n",
      "epoch: 90 loss: 0.9370345350602034\n",
      "epoch: 91 loss: 0.936042852311734\n",
      "epoch: 92 loss: 0.9368658410070922\n",
      "epoch: 93 loss: 0.935180367302438\n",
      "epoch: 94 loss: 0.9360351775723562\n",
      "epoch: 95 loss: 0.9336499122652325\n",
      "epoch: 96 loss: 0.9346006863364655\n",
      "epoch: 97 loss: 0.9325374148550732\n",
      "epoch: 98 loss: 0.9336886785959462\n",
      "epoch: 99 loss: 0.9325593880722275\n",
      "epoch: 100 loss: 0.9328299875498589\n",
      "epoch: 101 loss: 0.9312627805271769\n",
      "epoch: 102 loss: 0.9321752326794257\n",
      "epoch: 103 loss: 0.9306868115067394\n",
      "epoch: 104 loss: 0.9315900896977275\n",
      "epoch: 105 loss: 0.9302962816973529\n",
      "epoch: 106 loss: 0.9310419188126049\n",
      "epoch: 107 loss: 0.929792266737168\n",
      "epoch: 108 loss: 0.9307132010488257\n",
      "epoch: 109 loss: 0.9294435132952896\n",
      "epoch: 110 loss: 0.9298377448618249\n",
      "epoch: 111 loss: 0.9288061129188062\n",
      "epoch: 112 loss: 0.9294269322752016\n",
      "epoch: 113 loss: 0.9286663911479819\n",
      "epoch: 114 loss: 0.9292028399225459\n",
      "epoch: 115 loss: 0.927989915975402\n",
      "epoch: 116 loss: 0.9284743649022821\n",
      "epoch: 117 loss: 0.9270369878048216\n",
      "epoch: 118 loss: 0.9277874134473781\n",
      "epoch: 119 loss: 0.9266373489276717\n",
      "epoch: 120 loss: 0.9275131917175469\n",
      "epoch: 121 loss: 0.9267382392345266\n",
      "epoch: 122 loss: 0.9268949005444046\n",
      "epoch: 123 loss: 0.9257274369198607\n",
      "epoch: 124 loss: 0.9263843131868104\n",
      "epoch: 125 loss: 0.925207608116845\n",
      "epoch: 126 loss: 0.925895813491483\n",
      "epoch: 127 loss: 0.9252046846341793\n",
      "epoch: 128 loss: 0.9251917064816916\n",
      "epoch: 129 loss: 0.9243610106080271\n",
      "epoch: 130 loss: 0.9249577128455441\n",
      "epoch: 131 loss: 0.923788232395815\n",
      "epoch: 132 loss: 0.9243510964702667\n",
      "epoch: 133 loss: 0.9230600743663212\n",
      "epoch: 134 loss: 0.9236738375754672\n",
      "epoch: 135 loss: 0.9230989505656304\n",
      "epoch: 136 loss: 0.9235290965795319\n",
      "epoch: 137 loss: 0.9227483462381663\n",
      "epoch: 138 loss: 0.9232095161954705\n",
      "epoch: 139 loss: 0.9222679636572986\n",
      "epoch: 140 loss: 0.9228044699755001\n",
      "epoch: 141 loss: 0.9217285821457003\n",
      "epoch: 142 loss: 0.9221737652819006\n",
      "epoch: 143 loss: 0.9212986859532684\n",
      "epoch: 144 loss: 0.9216323758190461\n",
      "epoch: 145 loss: 0.9206190128307812\n",
      "epoch: 146 loss: 0.9211374321952097\n",
      "epoch: 147 loss: 0.9203114252113473\n",
      "epoch: 148 loss: 0.9210493306891926\n",
      "epoch: 149 loss: 0.9200335298988225\n",
      "epoch: 150 loss: 0.9204385746264679\n",
      "epoch: 151 loss: 0.919422785072951\n",
      "epoch: 152 loss: 0.920233408353729\n",
      "epoch: 153 loss: 0.9190602782996145\n",
      "epoch: 154 loss: 0.9195722235785071\n",
      "epoch: 155 loss: 0.918622111346438\n",
      "epoch: 156 loss: 0.9190997102478503\n",
      "epoch: 157 loss: 0.9182619458195377\n",
      "epoch: 158 loss: 0.9192599004149434\n",
      "epoch: 159 loss: 0.918161160124545\n",
      "epoch: 160 loss: 0.9186815081712514\n",
      "epoch: 161 loss: 0.9176302080666222\n",
      "epoch: 162 loss: 0.918209753396069\n",
      "epoch: 163 loss: 0.9174246241235042\n",
      "epoch: 164 loss: 0.9180550045751005\n",
      "epoch: 165 loss: 0.9170765687486238\n",
      "epoch: 166 loss: 0.9174976342951416\n",
      "epoch: 167 loss: 0.9169160520382563\n",
      "epoch: 168 loss: 0.9171807254700876\n",
      "epoch: 169 loss: 0.9165782786845403\n",
      "epoch: 170 loss: 0.9168955290607083\n",
      "epoch: 171 loss: 0.9162129994841123\n",
      "epoch: 172 loss: 0.9167402737423661\n",
      "epoch: 173 loss: 0.916038798600082\n",
      "epoch: 174 loss: 0.9168432055869552\n",
      "epoch: 175 loss: 0.9156336062109844\n",
      "epoch: 176 loss: 0.9159570680393406\n",
      "epoch: 177 loss: 0.9151680785175218\n",
      "epoch: 178 loss: 0.9158226511505124\n",
      "epoch: 179 loss: 0.9150804746031912\n",
      "epoch: 180 loss: 0.9155186924598759\n",
      "epoch: 181 loss: 0.9148980409301067\n",
      "epoch: 182 loss: 0.9148961184057283\n",
      "epoch: 183 loss: 0.9143684766799905\n",
      "epoch: 184 loss: 0.9146573223086307\n",
      "epoch: 185 loss: 0.9140420616516456\n",
      "epoch: 186 loss: 0.9142611076402776\n",
      "epoch: 187 loss: 0.9135387769580042\n",
      "epoch: 188 loss: 0.9137298185642208\n",
      "epoch: 189 loss: 0.9133694049884111\n",
      "epoch: 190 loss: 0.9135127285581488\n",
      "epoch: 191 loss: 0.9128974631455601\n",
      "epoch: 192 loss: 0.9132147040950955\n",
      "epoch: 193 loss: 0.9123211442265737\n",
      "epoch: 194 loss: 0.9129889059520201\n",
      "epoch: 195 loss: 0.9121639662562651\n",
      "epoch: 196 loss: 0.9127993462945994\n",
      "epoch: 197 loss: 0.9124652497033038\n",
      "epoch: 198 loss: 0.9125623488566076\n",
      "epoch: 199 loss: 0.9121474733657433\n",
      "epoch: 200 loss: 0.9123769482879172\n"
     ]
    }
   ],
   "source": [
    "nb_epoch = 200\n",
    "for epoch in range(1, nb_epoch + 1):\n",
    "    train_loss = 0\n",
    "    s = 0.\n",
    "    for id_user in range(nb_users):\n",
    "        input = Variable(training_set[id_user]).unsqueeze(0)\n",
    "        target = input.clone()\n",
    "        if torch.sum(target.data > 0) > 0:\n",
    "            output = sae(input)\n",
    "            target.require_grad = False\n",
    "            output[target == 0] = 0\n",
    "            loss = criterion(output, target)\n",
    "            mean_corrector = nb_movies/float(torch.sum(target.data > 0) + 1e-10)\n",
    "            loss.backward()\n",
    "            train_loss += np.sqrt(loss.data[0]*mean_corrector)\n",
    "            s += 1.\n",
    "            optimizer.step()\n",
    "    print('epoch: '+str(epoch)+' loss: '+str(train_loss/s))\n"
   ]
  },
  {
   "cell_type": "markdown",
   "metadata": {},
   "source": [
    "#### <font color = blue> Test the Model"
   ]
  },
  {
   "cell_type": "code",
   "execution_count": 11,
   "metadata": {},
   "outputs": [
    {
     "name": "stdout",
     "output_type": "stream",
     "text": [
      "test loss: 0.9496440007316151\n"
     ]
    }
   ],
   "source": [
    "test_loss = 0\n",
    "s = 0.\n",
    "for id_user in range(nb_users):\n",
    "    input = Variable(training_set[id_user]).unsqueeze(0)\n",
    "    target = Variable(test_set[id_user])\n",
    "    if torch.sum(target.data > 0) > 0:\n",
    "        output = sae(input)\n",
    "        target.require_grad = False\n",
    "        output[target == 0] = 0\n",
    "        loss = criterion(output, target)\n",
    "        mean_corrector = nb_movies/float(torch.sum(target.data > 0) + 1e-10)\n",
    "        test_loss += np.sqrt(loss.data[0]*mean_corrector)\n",
    "        s += 1.\n",
    "print('test loss: '+str(test_loss/s))"
   ]
  },
  {
   "cell_type": "markdown",
   "metadata": {},
   "source": [
    "![Machine Learning Project](https://user-images.githubusercontent.com/7065401/52071927-c1cd7100-2562-11e9-908a-dde91ba14e59.png)"
   ]
  },
  {
   "cell_type": "markdown",
   "metadata": {},
   "source": [
    "<b>©</b>Amir Ali"
   ]
  }
 ],
 "metadata": {
  "kernelspec": {
   "display_name": "Python 3 (ipykernel)",
   "language": "python",
   "name": "python3"
  },
  "language_info": {
   "codemirror_mode": {
    "name": "ipython",
    "version": 3
   },
   "file_extension": ".py",
   "mimetype": "text/x-python",
   "name": "python",
   "nbconvert_exporter": "python",
   "pygments_lexer": "ipython3",
   "version": "3.9.7"
  }
 },
 "nbformat": 4,
 "nbformat_minor": 2
}
